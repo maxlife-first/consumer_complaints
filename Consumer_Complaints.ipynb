{
 "cells": [
  {
   "cell_type": "code",
   "execution_count": 1,
   "id": "463530f1",
   "metadata": {},
   "outputs": [],
   "source": [
    "import warnings\n",
    "warnings.filterwarnings('ignore')\n",
    "import pandas as pd \n",
    "import numpy as np\n",
    "\n",
    "from sklearn.pipeline import Pipeline,FeatureUnion\n",
    "from sklearn.base import BaseEstimator, TransformerMixin\n",
    "\n",
    "from consumerpipes import *\n"
   ]
  },
  {
   "cell_type": "code",
   "execution_count": 2,
   "id": "09f2da02",
   "metadata": {},
   "outputs": [],
   "source": [
    "train_file=r'Consumer_Complaints_train.csv'"
   ]
  },
  {
   "cell_type": "code",
   "execution_count": 3,
   "id": "a01e2168",
   "metadata": {},
   "outputs": [],
   "source": [
    "ld_train=pd.read_csv(train_file)"
   ]
  },
  {
   "cell_type": "code",
   "execution_count": 4,
   "id": "792a5116",
   "metadata": {},
   "outputs": [
    {
     "data": {
      "text/plain": [
       "(478421, 18)"
      ]
     },
     "execution_count": 4,
     "metadata": {},
     "output_type": "execute_result"
    }
   ],
   "source": [
    "ld_train.shape"
   ]
  },
  {
   "cell_type": "code",
   "execution_count": 5,
   "id": "9777007d",
   "metadata": {},
   "outputs": [
    {
     "name": "stdout",
     "output_type": "stream",
     "text": [
      "<class 'pandas.core.frame.DataFrame'>\n",
      "RangeIndex: 478421 entries, 0 to 478420\n",
      "Data columns (total 18 columns):\n",
      " #   Column                        Non-Null Count   Dtype \n",
      "---  ------                        --------------   ----- \n",
      " 0   Date received                 478421 non-null  object\n",
      " 1   Product                       478421 non-null  object\n",
      " 2   Sub-product                   339948 non-null  object\n",
      " 3   Issue                         478421 non-null  object\n",
      " 4   Sub-issue                     185796 non-null  object\n",
      " 5   Consumer complaint narrative  75094 non-null   object\n",
      " 6   Company public response       90392 non-null   object\n",
      " 7   Company                       478421 non-null  object\n",
      " 8   State                         474582 non-null  object\n",
      " 9   ZIP code                      474573 non-null  object\n",
      " 10  Tags                          67206 non-null   object\n",
      " 11  Consumer consent provided?    135487 non-null  object\n",
      " 12  Submitted via                 478421 non-null  object\n",
      " 13  Date sent to company          478421 non-null  object\n",
      " 14  Company response to consumer  478421 non-null  object\n",
      " 15  Timely response?              478421 non-null  object\n",
      " 16  Consumer disputed?            478421 non-null  object\n",
      " 17  Complaint ID                  478421 non-null  int64 \n",
      "dtypes: int64(1), object(17)\n",
      "memory usage: 65.7+ MB\n"
     ]
    }
   ],
   "source": [
    "ld_train.info()"
   ]
  },
  {
   "cell_type": "code",
   "execution_count": 6,
   "id": "b8815b61",
   "metadata": {},
   "outputs": [
    {
     "data": {
      "text/html": [
       "<div>\n",
       "<style scoped>\n",
       "    .dataframe tbody tr th:only-of-type {\n",
       "        vertical-align: middle;\n",
       "    }\n",
       "\n",
       "    .dataframe tbody tr th {\n",
       "        vertical-align: top;\n",
       "    }\n",
       "\n",
       "    .dataframe thead th {\n",
       "        text-align: right;\n",
       "    }\n",
       "</style>\n",
       "<table border=\"1\" class=\"dataframe\">\n",
       "  <thead>\n",
       "    <tr style=\"text-align: right;\">\n",
       "      <th></th>\n",
       "      <th>Date received</th>\n",
       "      <th>Product</th>\n",
       "      <th>Sub-product</th>\n",
       "      <th>Issue</th>\n",
       "      <th>Sub-issue</th>\n",
       "      <th>Consumer complaint narrative</th>\n",
       "      <th>Company public response</th>\n",
       "      <th>Company</th>\n",
       "      <th>State</th>\n",
       "      <th>ZIP code</th>\n",
       "      <th>Tags</th>\n",
       "      <th>Consumer consent provided?</th>\n",
       "      <th>Submitted via</th>\n",
       "      <th>Date sent to company</th>\n",
       "      <th>Company response to consumer</th>\n",
       "      <th>Timely response?</th>\n",
       "      <th>Consumer disputed?</th>\n",
       "      <th>Complaint ID</th>\n",
       "    </tr>\n",
       "  </thead>\n",
       "  <tbody>\n",
       "    <tr>\n",
       "      <th>379031</th>\n",
       "      <td>2012-09-25</td>\n",
       "      <td>Mortgage</td>\n",
       "      <td>FHA mortgage</td>\n",
       "      <td>Loan servicing, payments, escrow account</td>\n",
       "      <td>NaN</td>\n",
       "      <td>NaN</td>\n",
       "      <td>NaN</td>\n",
       "      <td>IBERIABANK</td>\n",
       "      <td>LA</td>\n",
       "      <td>70583</td>\n",
       "      <td>Older American</td>\n",
       "      <td>NaN</td>\n",
       "      <td>Web</td>\n",
       "      <td>2012-09-25</td>\n",
       "      <td>Closed with explanation</td>\n",
       "      <td>Yes</td>\n",
       "      <td>No</td>\n",
       "      <td>159721</td>\n",
       "    </tr>\n",
       "    <tr>\n",
       "      <th>134207</th>\n",
       "      <td>2016-05-03</td>\n",
       "      <td>Credit reporting</td>\n",
       "      <td>NaN</td>\n",
       "      <td>Incorrect information on credit report</td>\n",
       "      <td>Information is not mine</td>\n",
       "      <td>NaN</td>\n",
       "      <td>NaN</td>\n",
       "      <td>Equifax</td>\n",
       "      <td>NV</td>\n",
       "      <td>89110</td>\n",
       "      <td>NaN</td>\n",
       "      <td>NaN</td>\n",
       "      <td>Postal mail</td>\n",
       "      <td>2016-05-23</td>\n",
       "      <td>Closed with explanation</td>\n",
       "      <td>Yes</td>\n",
       "      <td>Yes</td>\n",
       "      <td>1908711</td>\n",
       "    </tr>\n",
       "  </tbody>\n",
       "</table>\n",
       "</div>"
      ],
      "text/plain": [
       "       Date received           Product   Sub-product  \\\n",
       "379031    2012-09-25          Mortgage  FHA mortgage   \n",
       "134207    2016-05-03  Credit reporting           NaN   \n",
       "\n",
       "                                           Issue                Sub-issue  \\\n",
       "379031  Loan servicing, payments, escrow account                      NaN   \n",
       "134207    Incorrect information on credit report  Information is not mine   \n",
       "\n",
       "       Consumer complaint narrative Company public response     Company State  \\\n",
       "379031                          NaN                     NaN  IBERIABANK    LA   \n",
       "134207                          NaN                     NaN     Equifax    NV   \n",
       "\n",
       "       ZIP code            Tags Consumer consent provided? Submitted via  \\\n",
       "379031    70583  Older American                        NaN           Web   \n",
       "134207    89110             NaN                        NaN   Postal mail   \n",
       "\n",
       "       Date sent to company Company response to consumer Timely response?  \\\n",
       "379031           2012-09-25      Closed with explanation              Yes   \n",
       "134207           2016-05-23      Closed with explanation              Yes   \n",
       "\n",
       "       Consumer disputed?  Complaint ID  \n",
       "379031                 No        159721  \n",
       "134207                Yes       1908711  "
      ]
     },
     "execution_count": 6,
     "metadata": {},
     "output_type": "execute_result"
    }
   ],
   "source": [
    "ld_train.sample(2)"
   ]
  },
  {
   "cell_type": "code",
   "execution_count": 7,
   "id": "367ee383",
   "metadata": {},
   "outputs": [],
   "source": [
    "#drop Complint ID\n",
    "# create dummies pipeline: Product, sub- product(nan),issue,sub issue,company,State,Company response to consumer,Timely response?\n",
    "#Consumer disputed?\n",
    "#nan+dummies:Consumer complaint narrative,Company public response,ZIP code, Tags,Consumer consent provided?,submitted via\n",
    "#convert to numeric : all price vars\n",
    "# convert to datetime: Date received,Date sent to compnay,cyclic feature for month[12],day of month[31], weekday[7] \n",
    " "
   ]
  },
  {
   "cell_type": "code",
   "execution_count": 8,
   "id": "1941a0d2",
   "metadata": {},
   "outputs": [
    {
     "data": {
      "text/plain": [
       "NaN                                                                                                                                                                                                                                                                                                                                                                                                                                                                                                                                                                                                                                                                                                                                                                                                                                                                                                                                                                                                                                                                                                                                                                                                                                                                                                                                                                                                                                                                                                                                                                                                                                                                                                                                                                                                                                                                                                                                                                                                                                                                                                                                                                                                                                                                                                                                                                                                   403327\n",
       "This company continues to report on my credit report after I sent them a letter telling them that this account was not mine and I have no idea what it is or who it belongs to! \\n\\nI asked for proof of a signed contract, I asked for a license to collect in my state, I asked for copies of all information referenced for this debt and still to date, I have not received anything but harassment from this company! \\n\\nTHIS IS NOT MY DEBT! \\n\\nI WANT THIS ACCOUNT REMOVED FROM MY CREDIT REPORT AND THIS COMPANY TO STOP CONTACTING ME IMMEDIATELY! \\n                                                                                                                                                                                                                                                                                                                                                                                                                                                                                                                                                                                                                                                                                                                                                                                                                                                                                                                                                                                                                                                                                                                                                                                                                                                                                                                                                                                                                                                                                                                                                                                                                                                                                                                                                                                                                                          38\n",
       "This company continues to report on my credit report after I sent them a letter telling them that this account was not mine and I have no idea what it is or who it belongs to! \\n\\nI asked for proof of a signed contract, I asked for a license to collect in my state, I asked for copies of all information referenced for this debt and still to date, I have not received anything but harassment from this company! \\n\\nTHIS IS NOT MY DEBT! \\n                                                                                                                                                                                                                                                                                                                                                                                                                                                                                                                                                                                                                                                                                                                                                                                                                                                                                                                                                                                                                                                                                                                                                                                                                                                                                                                                                                                                                                                                                                                                                                                                                                                                                                                                                                                                                                                                                                                                                    26\n",
       "I have been a victim of Identity Theft. I have been trying to work with the Credit Reporting Agency but they are refusing to honor my valid identity theft case thus these incorrect/fraudulent items are still on my credit report and they must be removed immediately but they are do not belong to me. I have provided all of the proof to show that I was a victim of Identity Theft and that to the best of my knowledge these fraudulent accounts do not belong to me. Please take immediate action on my behalf so I can have these items removed, deleted and permanently blocked from my credit report, so that I can get back on track to a normal life. \\n\\nRegards \\n                                                                                                                                                                                                                                                                                                                                                                                                                                                                                                                                                                                                                                                                                                                                                                                                                                                                                                                                                                                                                                                                                                                                                                                                                                                                                                                                                                                                                                                                                                                                                                                                                                                                                                                        19\n",
       "I have sent several requests to Experian requesting an investigation of my accounts. It has been months and I still have not received a response to my concerns. The only thing I have received is some automated rejection letter stating that they wo n't do anything to help me ( please see attached ). \\nThis has to be a violation of my rights. I feel like I 've already wasted so much time just trying to get Experian to look at the errors on my credit report and I 'm so frustrated that Experian is intentionally not responding to my inquiries. I need to have this issue resolved immediately. There are many things I need to do with my life and they all involve my credit. But I am not able to move forward all because of this credit bureau! \\n                                                                                                                                                                                                                                                                                                                                                                                                                                                                                                                                                                                                                                                                                                                                                                                                                                                                                                                                                                                                                                                                                                                                                                                                                                                                                                                                                                                                                                                                                                                                                                                                                                  18\n",
       "                                                                                                                                                                                                                                                                                                                                                                                                                                                                                                                                                                                                                                                                                                                                                                                                                                                                                                                                                                                                                                                                                                                                                                                                                                                                                                                                                                                                                                                                                                                                                                                                                                                                                                                                                                                                                                                                                                                                                                                                                                                                                                                                                                                                                                                                                                                                                                                                       ...  \n",
       "XXXX Mortgage paid off by XXXX XXXX/they requested pay off amount from Wells Fargo ( XXXX 2015 ) WF gave them a figure, check was issued, then WF called back to XXXX XXXX and said they needed additional money to pay off debt - XXXX XXXX sent second check in the amount requested - paperwork submitted shows account with XXXX balance. Then in XX/XX/XXXX an automatic charge appeared on my checking account for what was the monthly payment ... I challenged it with my bank XXXX XXXX XXXX, provided them my documents and they supported myclaim and refunded the money taken by WF. Then WF tried to debit my account again in XX/XX/XXXX - same procedure, challenged with my bank and they again agreed and the charge was reversed. Now WF calls this house 3-4 times a day, we have tried to block the number but they must be using a different number than what is showing on the caller id ... ..We can not get them to stop ... they call at XXXX XXXX every day, including week-ends, call later in the afternoon and at night ... .Have even answered once or twice trying to explain why we no longer owe this amount ... .they continue to call ... .we need help stopping this harassment. \\n                                                                                                                                                                                                                                                                                                                                                                                                                                                                                                                                                                                                                                                                                                                                                                                                                                                                                                                                                                                                                                                                                                                                                                                    1\n",
       "XXXX we submitted the complete short sale package to US Bank for review. Sellers sellers had relocation benefit that would go to the deficiency to US Bank totaling XXXX the benefit expires XX/XX/XXXX so we asked for an expedited review and were denied. After several calls US Bank manager said she would request the file be expedited. When I called today I was told it was still with the processor and they were awaiting assignment to a negotiator. Please see the attached letter I have provided describing the entire episode.                                                                                                                                                                                                                                                                                                                                                                                                                                                                                                                                                                                                                                                                                                                                                                                                                                                                                                                                                                                                                                                                                                                                                                                                                                                                                                                                                                                                                                                                                                                                                                                                                                                                                                                                                                                                                                                             1\n",
       "My husband took a loan for me XX/XX/XXXX for a reliable vehicle XXXX Prius. He added me as a joint account holder, however due to his loss of job he filed bankruptcy XX/XX/XXXX he had to file bankruptcy on the account. I took over the payments for the vehicle but recently we were in an accident. The car was rear ended and deemed a total loss. The loan did not have GAP insurance included, there is a remaining balance of XXXX after payment from the insurance claim. I have called Toyota Financial on 5 occasions to discuss what would happen to the account because of the Total Loss, each time I called I would get a different scenario. On XXXX occasions I spoke with a representative in Total Loss Department who stated that I was no longer responsible for the balance due to my husband filing bankruptcy on the account in XX/XX/XXXX and that Toyota Financial would not be pursuing me for the balance due. On two other occasions I spoke with Total Loss Department employees again who stated I would be responsible and that they would be contacting me to make payment arrangements, once payment was received from insurance. After the initial conversations with representatives occurred that discussed my not having liability for the balance there were notes placed in the account to deter this information being communicated to me and Customer Service reps started to ask me the nature of the call prior to transferring me to the Total Loss Department. Toyota Financial is the financer and they are demanding full payment within 20 days from the date they received payment from the insurance. This request is unreasonable, and I did not agree to this. There has been not documentation or evidence presented to me showing that this is an agreed or allowable method in collecting payment. Thus far my payments have been timely so there is no reason for me not to continue paying on the balance of the loan. However, paying XXXX off is extremely unrealistic and is causing extreme financial hardship. I am requesting additional time to pay this balance in full, a structured payment agreement. This is not too uncommon in situations with total loss vehicles with balances due, Toyota Financial has not provided proof of any agreement showing where I accepted the terms of Total Loss payoff within 20 days. \\n         1\n",
       "Portfolio Recovery called my work disrupting patient care. They call around XXXX or before when I was very busy working for the patient when they call. My coworker gave me the name and return number. I work in a XXXX and somehow they found my department from someone. After work I called them back and informed them they cant call my work by the law. \\n                                                                                                                                                                                                                                                                                                                                                                                                                                                                                                                                                                                                                                                                                                                                                                                                                                                                                                                                                                                                                                                                                                                                                                                                                                                                                                                                                                                                                                                                                                                                                                                                                                                                                                                                                                                                                                                                                                                                                                                                                                          1\n",
       "MY MORTGAGE WAS BEHIND APPX {$5300.00}. I SENT GREEN TREE SERVICER {$5000.00} IN THE FORM OF AN ONLINE CHECK. MY BANK RECORDS REVEALED THAT MY CHECK WAS CASHED XX/XX/XXXX. THE BANK DENIED EVER HAVING THE CHECK AND CASHING THE CHECK. I SPOKE TO MANY, MANY SUPERVISORS AND MANAGERS IN THE COLLECTIONS DEPT REQUESTING TO RECIEVE MY CHECK BACK BECAUSE I WAS TOLD THAT I WAS IN FORECLOSURE AND THEY COULDNOT ACCEPT THE CHECK. AFTER BEING IGNORED BY EVERONE I SPOKE TO ... .. I REALIZED THE ONLY OPTION I HAD WAS TO SEND THE BANK THE ADDITIONAL FUNDS TO BRING MY ACCOUNT CURRENT. THOSE FUNDS WERE IMMEDIATELY RETURNED TO ME FOR PARTIAL PAYMENT. XXXX OF THOSE CHECKS WERE SENT TO THEM THE EXACT SAME WAY AS THE {$5000.00} CHECK THAT I SENT SO I WAS CONFUSED AS TO WHY THEY COULD SEND THOSE FUNDS BACK SO SOON BUT NOT THE {$5000.00} PAYMENT I SENT. I DIDNOT RECEIVE MY CHECK BACK FROM THE BANK UNTIL THE END OF XX/XX/XXXX ( ALMOST TWO MONTHS ). BY THAT TIME I WAS CHARGED / ACCRUED PENALTYS AND LAWYER FEES THAT WERE ASTRONOMICAL AND TOTALLY UNCALLED FOR ( AS MY PAYMENT HISTORY REVEALS I TRIED TO BRING MY ACCOUNT CURRENT MONTHS BEFORE. \\n                                                                                                                                                                                                                                                                                                                                                                                                                                                                                                                                                                                                                                                                                                                                                                                                                                                                                                                                                                                                                                                                                                                                                                                                                               1\n",
       "Name: Consumer complaint narrative, Length: 74020, dtype: int64"
      ]
     },
     "execution_count": 8,
     "metadata": {},
     "output_type": "execute_result"
    }
   ],
   "source": [
    "ld_train['Consumer complaint narrative'].value_counts(dropna=False)"
   ]
  },
  {
   "cell_type": "code",
   "execution_count": 9,
   "id": "79c1032f",
   "metadata": {},
   "outputs": [],
   "source": [
    "date_var=[i for i in ld_train.columns if 'Date' in i]"
   ]
  },
  {
   "cell_type": "code",
   "execution_count": 10,
   "id": "c36a210f",
   "metadata": {},
   "outputs": [
    {
     "data": {
      "text/plain": [
       "['Date received', 'Date sent to company']"
      ]
     },
     "execution_count": 10,
     "metadata": {},
     "output_type": "execute_result"
    }
   ],
   "source": [
    "date_var"
   ]
  },
  {
   "cell_type": "code",
   "execution_count": 11,
   "id": "678e4cb0",
   "metadata": {},
   "outputs": [],
   "source": [
    "cat_var=ld_train.select_dtypes(include='object').columns\n",
    "cat_var=[_ for _ in cat_var if _ not in date_var]"
   ]
  },
  {
   "cell_type": "code",
   "execution_count": 12,
   "id": "5dd01b06",
   "metadata": {},
   "outputs": [
    {
     "data": {
      "text/plain": [
       "list"
      ]
     },
     "execution_count": 12,
     "metadata": {},
     "output_type": "execute_result"
    }
   ],
   "source": [
    "type(cat_var)"
   ]
  },
  {
   "cell_type": "code",
   "execution_count": 13,
   "id": "4b21d5d2",
   "metadata": {},
   "outputs": [],
   "source": [
    "cat_var.remove('Consumer complaint narrative')"
   ]
  },
  {
   "cell_type": "code",
   "execution_count": 14,
   "id": "1f5e32b5",
   "metadata": {},
   "outputs": [],
   "source": [
    "text_var=['Consumer complaint narrative']"
   ]
  },
  {
   "cell_type": "code",
   "execution_count": 15,
   "id": "343f6c61",
   "metadata": {},
   "outputs": [],
   "source": [
    "a=pd.to_datetime(ld_train['Date sent to company'],errors='coerce')\n",
    "b=pd.to_datetime(ld_train['Date received'],errors='coerce')"
   ]
  },
  {
   "cell_type": "code",
   "execution_count": 16,
   "id": "0b99328c",
   "metadata": {},
   "outputs": [
    {
     "data": {
      "text/plain": [
       "0          5\n",
       "1          9\n",
       "2          4\n",
       "3          7\n",
       "4         11\n",
       "          ..\n",
       "478416     7\n",
       "478417     6\n",
       "478418     9\n",
       "478419     9\n",
       "478420    10\n",
       "Name: Date sent to company, Length: 478421, dtype: int64"
      ]
     },
     "execution_count": 16,
     "metadata": {},
     "output_type": "execute_result"
    }
   ],
   "source": [
    "a.dt.month"
   ]
  },
  {
   "cell_type": "code",
   "execution_count": 17,
   "id": "003daaaf",
   "metadata": {},
   "outputs": [
    {
     "data": {
      "text/plain": [
       "0         16\n",
       "1         24\n",
       "2          3\n",
       "3         17\n",
       "4         28\n",
       "          ..\n",
       "478416     1\n",
       "478417    21\n",
       "478418     9\n",
       "478419    24\n",
       "478420    30\n",
       "Name: Date sent to company, Length: 478421, dtype: int64"
      ]
     },
     "execution_count": 17,
     "metadata": {},
     "output_type": "execute_result"
    }
   ],
   "source": [
    "a.dt.day"
   ]
  },
  {
   "cell_type": "code",
   "execution_count": 18,
   "id": "53e87d31",
   "metadata": {},
   "outputs": [
    {
     "data": {
      "text/plain": [
       "0         4\n",
       "1         2\n",
       "2         3\n",
       "3         4\n",
       "4         4\n",
       "         ..\n",
       "478416    2\n",
       "478417    4\n",
       "478418    1\n",
       "478419    0\n",
       "478420    3\n",
       "Name: Date sent to company, Length: 478421, dtype: int64"
      ]
     },
     "execution_count": 18,
     "metadata": {},
     "output_type": "execute_result"
    }
   ],
   "source": [
    "a.dt.dayofweek"
   ]
  },
  {
   "cell_type": "code",
   "execution_count": 19,
   "id": "c4397631",
   "metadata": {},
   "outputs": [],
   "source": [
    "from sklearn.model_selection import train_test_split\n",
    "from sklearn.preprocessing import FunctionTransformer"
   ]
  },
  {
   "cell_type": "code",
   "execution_count": 20,
   "id": "7045587a",
   "metadata": {},
   "outputs": [],
   "source": [
    "p_train,p_test=train_test_split(ld_train,test_size=0.2,random_state=42)"
   ]
  },
  {
   "cell_type": "code",
   "execution_count": 21,
   "id": "e8dc6c47",
   "metadata": {},
   "outputs": [],
   "source": [
    "p_train.reset_index(drop=True,inplace=True)\n",
    "p_test.reset_index(drop=True,inplace=True)"
   ]
  },
  {
   "cell_type": "code",
   "execution_count": 22,
   "id": "d36ad701",
   "metadata": {},
   "outputs": [],
   "source": [
    "p1=pdPipeline([\n",
    "    ('var_select',VarSelector(cat_var)),\n",
    "    ('missing_trt',DataFrameImputer()),\n",
    "    ('creating_dummies',creat_dummies(1000))\n",
    "])\n",
    "\n",
    "\n",
    "p2=pdPipeline([\n",
    "    ('var_select',VarSelector(date_var)),\n",
    "    ('convert_to_datetime',convert_to_datetime()),\n",
    "    ('cyclic_feature',cyclic_features())\n",
    "    \n",
    "])\n",
    "p3=pdPipeline([\n",
    "    ('var_select',VarSelector(text_var)),\n",
    "    ('clenaning_string',string_clean(\"XXXX\",\"\")),\n",
    "    ('missing_trt',DataFrameImputer()),\n",
    "    ('text_frequency',text_frequency()),\n",
    "    #('toarray',ArrayTransformer())\n",
    "    \n",
    "])\n",
    "    \n",
    "data_pipe=FeatureUnion([\n",
    "    ('p1',p1),\n",
    "    ('p2',p2),\n",
    "    ('p3',p3)\n",
    "    \n",
    "    \n",
    "])"
   ]
  },
  {
   "cell_type": "code",
   "execution_count": 23,
   "id": "a3dfafdd",
   "metadata": {},
   "outputs": [
    {
     "data": {
      "text/plain": [
       "FeatureUnion(transformer_list=[('p1',\n",
       "                                pdPipeline(steps=[('var_select',\n",
       "                                                   VarSelector(feature_names=['Product',\n",
       "                                                                              'Sub-product',\n",
       "                                                                              'Issue',\n",
       "                                                                              'Sub-issue',\n",
       "                                                                              'Company '\n",
       "                                                                              'public '\n",
       "                                                                              'response',\n",
       "                                                                              'Company',\n",
       "                                                                              'State',\n",
       "                                                                              'ZIP '\n",
       "                                                                              'code',\n",
       "                                                                              'Tags',\n",
       "                                                                              'Consumer '\n",
       "                                                                              'consent '\n",
       "                                                                              'provided?',\n",
       "                                                                              'Submitted '\n",
       "                                                                              'via',\n",
       "                                                                              'Company '\n",
       "                                                                              'response '\n",
       "                                                                              'to '\n",
       "                                                                              'consumer',\n",
       "                                                                              'Timely '\n",
       "                                                                              'response?',\n",
       "                                                                              'Consumer '\n",
       "                                                                              'disputed?'])),\n",
       "                                                  ('missing_trt',\n",
       "                                                   Dat...\n",
       "                                                                              'sent '\n",
       "                                                                              'to '\n",
       "                                                                              'company'])),\n",
       "                                                  ('convert_to_datetime',\n",
       "                                                   convert_to_datetime()),\n",
       "                                                  ('cyclic_feature',\n",
       "                                                   cyclic_features())])),\n",
       "                               ('p3',\n",
       "                                pdPipeline(steps=[('var_select',\n",
       "                                                   VarSelector(feature_names=['Consumer '\n",
       "                                                                              'complaint '\n",
       "                                                                              'narrative'])),\n",
       "                                                  ('clenaning_string',\n",
       "                                                   string_clean(replace_it='XXXX',\n",
       "                                                                replace_with='')),\n",
       "                                                  ('missing_trt',\n",
       "                                                   DataFrameImputer()),\n",
       "                                                  ('text_frequency',\n",
       "                                                   text_frequency())]))])"
      ]
     },
     "execution_count": 23,
     "metadata": {},
     "output_type": "execute_result"
    }
   ],
   "source": [
    "data_pipe.fit(p_train)"
   ]
  },
  {
   "cell_type": "code",
   "execution_count": 24,
   "id": "342afd2d",
   "metadata": {},
   "outputs": [
    {
     "data": {
      "text/plain": [
       "<bound method FeatureUnion.get_feature_names of FeatureUnion(transformer_list=[('p1',\n",
       "                                pdPipeline(steps=[('var_select',\n",
       "                                                   VarSelector(feature_names=['Product',\n",
       "                                                                              'Sub-product',\n",
       "                                                                              'Issue',\n",
       "                                                                              'Sub-issue',\n",
       "                                                                              'Company '\n",
       "                                                                              'public '\n",
       "                                                                              'response',\n",
       "                                                                              'Company',\n",
       "                                                                              'State',\n",
       "                                                                              'ZIP '\n",
       "                                                                              'code',\n",
       "                                                                              'Tags',\n",
       "                                                                              'Consumer '\n",
       "                                                                              'consent '\n",
       "                                                                              'provided?',\n",
       "                                                                              'Submitted '\n",
       "                                                                              'via',\n",
       "                                                                              'Company '\n",
       "                                                                              'response '\n",
       "                                                                              'to '\n",
       "                                                                              'consumer',\n",
       "                                                                              'Timely '\n",
       "                                                                              'response?',\n",
       "                                                                              'Consumer '\n",
       "                                                                              'disputed?'])),\n",
       "                                                  ('missing_trt',\n",
       "                                                   Dat...\n",
       "                                                                              'sent '\n",
       "                                                                              'to '\n",
       "                                                                              'company'])),\n",
       "                                                  ('convert_to_datetime',\n",
       "                                                   convert_to_datetime()),\n",
       "                                                  ('cyclic_feature',\n",
       "                                                   cyclic_features())])),\n",
       "                               ('p3',\n",
       "                                pdPipeline(steps=[('var_select',\n",
       "                                                   VarSelector(feature_names=['Consumer '\n",
       "                                                                              'complaint '\n",
       "                                                                              'narrative'])),\n",
       "                                                  ('clenaning_string',\n",
       "                                                   string_clean(replace_it='XXXX',\n",
       "                                                                replace_with='')),\n",
       "                                                  ('missing_trt',\n",
       "                                                   DataFrameImputer()),\n",
       "                                                  ('text_frequency',\n",
       "                                                   text_frequency())]))])>"
      ]
     },
     "execution_count": 24,
     "metadata": {},
     "output_type": "execute_result"
    }
   ],
   "source": [
    "data_pipe.get_feature_names"
   ]
  },
  {
   "cell_type": "code",
   "execution_count": 25,
   "id": "d4bfaf61",
   "metadata": {},
   "outputs": [
    {
     "data": {
      "text/plain": [
       "(382736, 240)"
      ]
     },
     "execution_count": 25,
     "metadata": {},
     "output_type": "execute_result"
    }
   ],
   "source": [
    "data_pipe.transform(p_train).shape"
   ]
  },
  {
   "cell_type": "code",
   "execution_count": 26,
   "id": "41016891",
   "metadata": {},
   "outputs": [
    {
     "data": {
      "text/plain": [
       "240"
      ]
     },
     "execution_count": 26,
     "metadata": {},
     "output_type": "execute_result"
    }
   ],
   "source": [
    "len(data_pipe.get_feature_names())"
   ]
  },
  {
   "cell_type": "code",
   "execution_count": 27,
   "id": "fa38383b",
   "metadata": {},
   "outputs": [],
   "source": [
    "x_train=pd.DataFrame(data=data_pipe.transform(p_train),\n",
    "                    columns=data_pipe.get_feature_names())"
   ]
  },
  {
   "cell_type": "code",
   "execution_count": 28,
   "id": "6717d988",
   "metadata": {},
   "outputs": [],
   "source": [
    "x_test=pd.DataFrame(data=data_pipe.transform(p_test),\n",
    "                    columns=data_pipe.get_feature_names())"
   ]
  },
  {
   "cell_type": "code",
   "execution_count": 29,
   "id": "c85b8d08",
   "metadata": {},
   "outputs": [
    {
     "data": {
      "text/plain": [
       "(382736, 240)"
      ]
     },
     "execution_count": 29,
     "metadata": {},
     "output_type": "execute_result"
    }
   ],
   "source": [
    "x_train.shape"
   ]
  },
  {
   "cell_type": "code",
   "execution_count": 30,
   "id": "f71a1fde",
   "metadata": {},
   "outputs": [
    {
     "data": {
      "text/plain": [
       "(95685, 240)"
      ]
     },
     "execution_count": 30,
     "metadata": {},
     "output_type": "execute_result"
    }
   ],
   "source": [
    "x_test.shape"
   ]
  },
  {
   "cell_type": "code",
   "execution_count": 31,
   "id": "bf887a5f",
   "metadata": {},
   "outputs": [
    {
     "data": {
      "text/plain": [
       "Index(['p1__Product_Mortgage', 'p1__Product_Debt collection',\n",
       "       'p1__Product_Credit reporting', 'p1__Product_Credit card',\n",
       "       'p1__Product_Bank account or service', 'p1__Product_Consumer Loan',\n",
       "       'p1__Product_Student loan', 'p1__Product_Money transfers',\n",
       "       'p1__Product_Payday loan', 'p1__Sub-product_missing',\n",
       "       ...\n",
       "       'p2__Date received_month_cos', 'p2__Date received_month_day_sin',\n",
       "       'p2__Date received_month_day_cos', 'p2__Date sent to company_week_sin',\n",
       "       'p2__Date sent to company_week_cos',\n",
       "       'p2__Date sent to company_month_sin',\n",
       "       'p2__Date sent to company_month_cos',\n",
       "       'p2__Date sent to company_month_day_sin',\n",
       "       'p2__Date sent to company_month_day_cos',\n",
       "       'p3__Consumer complaint narrative'],\n",
       "      dtype='object', length=240)"
      ]
     },
     "execution_count": 31,
     "metadata": {},
     "output_type": "execute_result"
    }
   ],
   "source": [
    "x_train.columns"
   ]
  },
  {
   "cell_type": "code",
   "execution_count": 32,
   "id": "2a35adc8",
   "metadata": {},
   "outputs": [
    {
     "data": {
      "text/plain": [
       "['p1__Product_Mortgage',\n",
       " 'p1__Product_Debt collection',\n",
       " 'p1__Product_Credit reporting',\n",
       " 'p1__Product_Credit card',\n",
       " 'p1__Product_Bank account or service',\n",
       " 'p1__Product_Consumer Loan',\n",
       " 'p1__Product_Student loan',\n",
       " 'p1__Product_Money transfers',\n",
       " 'p1__Product_Payday loan',\n",
       " 'p1__Sub-product_missing',\n",
       " 'p1__Sub-product_Other mortgage',\n",
       " 'p1__Sub-product_Conventional fixed mortgage',\n",
       " 'p1__Sub-product_Checking account',\n",
       " 'p1__Sub-product_Other (i.e. phone, health club, etc.)',\n",
       " 'p1__Sub-product_I do not know',\n",
       " 'p1__Sub-product_Credit card',\n",
       " 'p1__Sub-product_Conventional adjustable mortgage (ARM)',\n",
       " 'p1__Sub-product_FHA mortgage',\n",
       " 'p1__Sub-product_Non-federal student loan',\n",
       " 'p1__Sub-product_Medical',\n",
       " 'p1__Sub-product_Vehicle loan',\n",
       " 'p1__Sub-product_Other bank product/service',\n",
       " 'p1__Sub-product_Payday loan',\n",
       " 'p1__Sub-product_Home equity loan or line of credit',\n",
       " 'p1__Sub-product_Installment loan',\n",
       " 'p1__Sub-product_Savings account',\n",
       " 'p1__Sub-product_VA mortgage',\n",
       " 'p1__Sub-product_Mortgage',\n",
       " 'p1__Sub-product_(CD) Certificate of deposit',\n",
       " 'p1__Sub-product_Auto',\n",
       " 'p1__Sub-product_International money transfer',\n",
       " 'p1__Sub-product_Domestic (US) money transfer',\n",
       " 'p1__Sub-product_Federal student loan',\n",
       " 'p1__Sub-product_Federal student loan servicing',\n",
       " 'p1__Sub-product_Vehicle lease',\n",
       " 'p1__Sub-product_Reverse mortgage',\n",
       " 'p1__Issue_Loan modification,collection,foreclosure',\n",
       " 'p1__Issue_Incorrect information on credit report',\n",
       " 'p1__Issue_Loan servicing, payments, escrow account',\n",
       " \"p1__Issue_Cont'd attempts collect debt not owed\",\n",
       " 'p1__Issue_Account opening, closing, or management',\n",
       " 'p1__Issue_Disclosure verification of debt',\n",
       " 'p1__Issue_Communication tactics',\n",
       " 'p1__Issue_Deposits and withdrawals',\n",
       " 'p1__Issue_Application, originator, mortgage broker',\n",
       " 'p1__Issue_Billing disputes',\n",
       " 'p1__Issue_Other',\n",
       " \"p1__Issue_Credit reporting company's investigation\",\n",
       " 'p1__Issue_Managing the loan or lease',\n",
       " 'p1__Issue_Problems caused by my funds being low',\n",
       " 'p1__Issue_False statements or representation',\n",
       " 'p1__Issue_Unable to get credit report/credit score',\n",
       " 'p1__Issue_Dealing with my lender or servicer',\n",
       " 'p1__Issue_Improper contact or sharing of info',\n",
       " 'p1__Issue_Problems when you are unable to pay',\n",
       " 'p1__Issue_Settlement process and costs',\n",
       " 'p1__Issue_Taking/threatening an illegal action',\n",
       " 'p1__Issue_Identity theft / Fraud / Embezzlement',\n",
       " 'p1__Issue_Making/receiving payments, sending money',\n",
       " 'p1__Issue_Closing/Cancelling account',\n",
       " 'p1__Issue_APR or interest rate',\n",
       " 'p1__Issue_Credit decision / Underwriting',\n",
       " 'p1__Issue_Using a debit or ATM card',\n",
       " \"p1__Issue_Can't repay my loan\",\n",
       " 'p1__Issue_Improper use of my credit report',\n",
       " 'p1__Issue_Repaying your loan',\n",
       " 'p1__Issue_Credit monitoring or identity protection',\n",
       " 'p1__Issue_Taking out the loan or lease',\n",
       " 'p1__Issue_Late fee',\n",
       " 'p1__Issue_Customer service / Customer relations',\n",
       " 'p1__Issue_Delinquent account',\n",
       " 'p1__Issue_Credit determination',\n",
       " 'p1__Issue_Advertising and marketing',\n",
       " 'p1__Issue_Billing statement',\n",
       " 'p1__Issue_Fraud or scam',\n",
       " 'p1__Issue_Credit card protection / Debt protection',\n",
       " 'p1__Issue_Rewards',\n",
       " 'p1__Issue_Transaction issue',\n",
       " \"p1__Issue_Charged fees or interest I didn't expect\",\n",
       " 'p1__Issue_Payoff process',\n",
       " 'p1__Issue_Credit line increase/decrease',\n",
       " 'p1__Issue_Other fee',\n",
       " 'p1__Sub-issue_missing',\n",
       " 'p1__Sub-issue_Account status',\n",
       " 'p1__Sub-issue_Debt is not mine',\n",
       " 'p1__Sub-issue_Information is not mine',\n",
       " 'p1__Sub-issue_Not given enough info to verify debt',\n",
       " 'p1__Sub-issue_Debt was paid',\n",
       " 'p1__Sub-issue_Frequent or repeated calls',\n",
       " 'p1__Sub-issue_Account terms',\n",
       " 'p1__Sub-issue_Attempted to collect wrong amount',\n",
       " 'p1__Sub-issue_Public record',\n",
       " 'p1__Sub-issue_Problem getting my free annual report',\n",
       " 'p1__Sub-issue_Personal information',\n",
       " 'p1__Sub-issue_Right to dispute notice not received',\n",
       " 'p1__Sub-issue_Problem with statement of dispute',\n",
       " 'p1__Sub-issue_No notice of investigation status/result',\n",
       " 'p1__Sub-issue_Report improperly shared by CRC',\n",
       " 'p1__Sub-issue_Repaying your loan',\n",
       " 'p1__Sub-issue_Talked to a third party about my debt',\n",
       " 'p1__Sub-issue_Threatened to take legal action',\n",
       " 'p1__Sub-issue_Problem getting report or credit score',\n",
       " 'p1__Sub-issue_Debt resulted from identity theft',\n",
       " 'p1__Sub-issue_Reinserted previously deleted info',\n",
       " 'p1__Sub-issue_Trouble with how payments are handled',\n",
       " 'p1__Sub-issue_Contacted me after I asked not to',\n",
       " 'p1__Sub-issue_Threatened to sue on too old debt',\n",
       " \"p1__Sub-issue_Can't decrease my monthly payments\",\n",
       " 'p1__Sub-issue_Debt was discharged in bankruptcy',\n",
       " \"p1__Sub-issue_Can't get flexible payment options\",\n",
       " \"p1__Sub-issue_Charged fees or interest I didn't expect\",\n",
       " 'p1__Sub-issue_Threatened arrest/jail if do not pay',\n",
       " 'p1__Sub-issue_Contacted employer after asked not to',\n",
       " 'p1__Sub-issue_Problems when you are unable to pay',\n",
       " 'p1__Sub-issue_Investigation took too long',\n",
       " 'p1__Company public response_missing',\n",
       " 'p1__Company public response_Company chooses not to provide a public response',\n",
       " 'p1__Company public response_Company has responded to the consumer and the CFPB and chooses not to provide a public response',\n",
       " 'p1__Company public response_Company believes it acted appropriately as authorized by contract or law',\n",
       " 'p1__Company public response_Company believes complaint caused principally by actions of third party outside the control or direction of the company',\n",
       " 'p1__Company public response_Company believes the complaint is the result of a misunderstanding',\n",
       " 'p1__Company_Bank of America',\n",
       " 'p1__Company_Wells Fargo & Company',\n",
       " 'p1__Company_JPMorgan Chase & Co.',\n",
       " 'p1__Company_Equifax',\n",
       " 'p1__Company_Experian',\n",
       " 'p1__Company_TransUnion Intermediate Holdings, Inc.',\n",
       " 'p1__Company_Citibank',\n",
       " 'p1__Company_Ocwen',\n",
       " 'p1__Company_Capital One',\n",
       " 'p1__Company_Nationstar Mortgage',\n",
       " 'p1__Company_Synchrony Financial',\n",
       " 'p1__Company_U.S. Bancorp',\n",
       " 'p1__Company_Ditech Financial LLC',\n",
       " 'p1__Company_Navient Solutions, Inc.',\n",
       " 'p1__Company_PNC Bank N.A.',\n",
       " 'p1__Company_Encore Capital Group',\n",
       " 'p1__Company_Amex',\n",
       " 'p1__Company_HSBC North America Holdings Inc.',\n",
       " 'p1__Company_SunTrust Banks, Inc.',\n",
       " 'p1__Company_Discover',\n",
       " 'p1__Company_TD Bank US Holding Company',\n",
       " 'p1__Company_Select Portfolio Servicing, Inc',\n",
       " 'p1__Company_Portfolio Recovery Associates, Inc.',\n",
       " 'p1__Company_Citizens Financial Group, Inc.',\n",
       " 'p1__Company_Seterus, Inc.',\n",
       " 'p1__Company_Barclays PLC',\n",
       " 'p1__Company_Fifth Third Financial Corporation',\n",
       " 'p1__Company_ERC',\n",
       " 'p1__Company_BB&T Financial',\n",
       " 'p1__Company_M&T Bank Corporation',\n",
       " 'p1__Company_PayPal Holdings, Inc.',\n",
       " 'p1__Company_Ally Financial Inc.',\n",
       " 'p1__Company_USAA Savings',\n",
       " 'p1__Company_Regions Financial Corporation',\n",
       " 'p1__Company_Specialized Loan Servicing LLC',\n",
       " 'p1__Company_AES/PHEAA',\n",
       " 'p1__Company_Santander Consumer USA Holdings Inc',\n",
       " 'p1__Company_Santander Bank US',\n",
       " 'p1__Company_Resurgent Capital Services L.P.',\n",
       " 'p1__Company_Flagstar Bank',\n",
       " 'p1__Company_Expert Global Solutions, Inc.',\n",
       " 'p1__Company_Transworld Systems Inc.',\n",
       " 'p1__Company_Caliber Home Loans, Inc',\n",
       " 'p1__Company_Navy FCU',\n",
       " 'p1__State_CA',\n",
       " 'p1__State_FL',\n",
       " 'p1__State_TX',\n",
       " 'p1__State_NY',\n",
       " 'p1__State_GA',\n",
       " 'p1__State_NJ',\n",
       " 'p1__State_PA',\n",
       " 'p1__State_IL',\n",
       " 'p1__State_VA',\n",
       " 'p1__State_MD',\n",
       " 'p1__State_OH',\n",
       " 'p1__State_NC',\n",
       " 'p1__State_MI',\n",
       " 'p1__State_AZ',\n",
       " 'p1__State_WA',\n",
       " 'p1__State_MA',\n",
       " 'p1__State_CO',\n",
       " 'p1__State_TN',\n",
       " 'p1__State_MO',\n",
       " 'p1__State_SC',\n",
       " 'p1__State_NV',\n",
       " 'p1__State_OR',\n",
       " 'p1__State_MN',\n",
       " 'p1__State_CT',\n",
       " 'p1__State_IN',\n",
       " 'p1__State_WI',\n",
       " 'p1__State_AL',\n",
       " 'p1__State_LA',\n",
       " 'p1__State_missing',\n",
       " 'p1__State_KY',\n",
       " 'p1__State_OK',\n",
       " 'p1__State_DC',\n",
       " 'p1__State_UT',\n",
       " 'p1__State_DE',\n",
       " 'p1__State_NH',\n",
       " 'p1__State_KS',\n",
       " 'p1__State_NM',\n",
       " 'p1__State_MS',\n",
       " 'p1__State_AR',\n",
       " 'p1__State_IA',\n",
       " 'p1__State_ID',\n",
       " 'p1__State_HI',\n",
       " 'p1__State_RI',\n",
       " 'p1__State_ME',\n",
       " 'p1__ZIP code_missing',\n",
       " 'p1__Tags_missing',\n",
       " 'p1__Tags_Older American',\n",
       " 'p1__Tags_Servicemember',\n",
       " 'p1__Consumer consent provided?_missing',\n",
       " 'p1__Consumer consent provided?_Consent provided',\n",
       " 'p1__Consumer consent provided?_Consent not provided',\n",
       " 'p1__Submitted via_Web',\n",
       " 'p1__Submitted via_Referral',\n",
       " 'p1__Submitted via_Phone',\n",
       " 'p1__Submitted via_Postal mail',\n",
       " 'p1__Company response to consumer_Closed with explanation',\n",
       " 'p1__Company response to consumer_Closed with non-monetary relief',\n",
       " 'p1__Company response to consumer_Closed with monetary relief',\n",
       " 'p1__Company response to consumer_Closed without relief',\n",
       " 'p1__Company response to consumer_Closed',\n",
       " 'p1__Timely response?_Yes',\n",
       " 'p1__Consumer disputed?_No',\n",
       " 'p2__Date received_week_sin',\n",
       " 'p2__Date received_week_cos',\n",
       " 'p2__Date received_month_sin',\n",
       " 'p2__Date received_month_cos',\n",
       " 'p2__Date received_month_day_sin',\n",
       " 'p2__Date received_month_day_cos',\n",
       " 'p2__Date sent to company_week_sin',\n",
       " 'p2__Date sent to company_week_cos',\n",
       " 'p2__Date sent to company_month_sin',\n",
       " 'p2__Date sent to company_month_cos',\n",
       " 'p2__Date sent to company_month_day_sin',\n",
       " 'p2__Date sent to company_month_day_cos',\n",
       " 'p3__Consumer complaint narrative']"
      ]
     },
     "execution_count": 32,
     "metadata": {},
     "output_type": "execute_result"
    }
   ],
   "source": [
    "x_test.columns.to_list()"
   ]
  },
  {
   "cell_type": "code",
   "execution_count": null,
   "id": "88149736",
   "metadata": {},
   "outputs": [],
   "source": []
  }
 ],
 "metadata": {
  "kernelspec": {
   "display_name": "Python 3",
   "language": "python",
   "name": "python3"
  },
  "language_info": {
   "codemirror_mode": {
    "name": "ipython",
    "version": 3
   },
   "file_extension": ".py",
   "mimetype": "text/x-python",
   "name": "python",
   "nbconvert_exporter": "python",
   "pygments_lexer": "ipython3",
   "version": "3.8.8"
  }
 },
 "nbformat": 4,
 "nbformat_minor": 5
}
